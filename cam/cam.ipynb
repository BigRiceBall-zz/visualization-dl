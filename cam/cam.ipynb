{
 "cells": [
  {
   "cell_type": "code",
   "execution_count": 81,
   "metadata": {},
   "outputs": [
    {
     "name": "stdout",
     "output_type": "stream",
     "text": [
      "_________________________________________________________________\n",
      "Layer (type)                 Output Shape              Param #   \n",
      "=================================================================\n",
      "input_28 (InputLayer)        (None, 32, 32, 3)         0         \n",
      "_________________________________________________________________\n",
      "conv2d_68 (Conv2D)           (None, 30, 30, 32)        896       \n",
      "_________________________________________________________________\n",
      "conv2d_69 (Conv2D)           (None, 28, 28, 32)        9248      \n",
      "_________________________________________________________________\n",
      "max_pooling2d_22 (MaxPooling (None, 14, 14, 32)        0         \n",
      "_________________________________________________________________\n",
      "conv2d_70 (Conv2D)           (None, 12, 12, 32)        9248      \n",
      "_________________________________________________________________\n",
      "conv2d_71 (Conv2D)           (None, 10, 10, 64)        18496     \n",
      "_________________________________________________________________\n",
      "global_average_pooling2d_10  (None, 64)                0         \n",
      "_________________________________________________________________\n",
      "dense_34 (Dense)             (None, 10)                650       \n",
      "=================================================================\n",
      "Total params: 38,538\n",
      "Trainable params: 38,538\n",
      "Non-trainable params: 0\n",
      "_________________________________________________________________\n",
      "Train on 50000 samples, validate on 10000 samples\n",
      "Epoch 1/20\n",
      "50000/50000 [==============================] - 119s 2ms/step - loss: 1.8885 - acc: 0.3522 - val_loss: 1.5204 - val_acc: 0.4565\n",
      "Epoch 2/20\n",
      "50000/50000 [==============================] - 132s 3ms/step - loss: 1.3759 - acc: 0.5111 - val_loss: 1.2857 - val_acc: 0.5437\n",
      "Epoch 3/20\n",
      "50000/50000 [==============================] - 133s 3ms/step - loss: 1.2214 - acc: 0.5695 - val_loss: 1.1753 - val_acc: 0.5848\n",
      "Epoch 4/20\n",
      "50000/50000 [==============================] - 168s 3ms/step - loss: 1.1139 - acc: 0.6060 - val_loss: 1.1987 - val_acc: 0.5856\n",
      "Epoch 5/20\n",
      "50000/50000 [==============================] - 169s 3ms/step - loss: 1.0449 - acc: 0.6348 - val_loss: 1.0786 - val_acc: 0.6278\n",
      "Epoch 6/20\n",
      "50000/50000 [==============================] - 172s 3ms/step - loss: 0.9860 - acc: 0.6548 - val_loss: 0.9793 - val_acc: 0.6601\n",
      "Epoch 7/20\n",
      "50000/50000 [==============================] - 220s 4ms/step - loss: 0.9294 - acc: 0.6753 - val_loss: 0.9478 - val_acc: 0.6746\n",
      "Epoch 8/20\n",
      "50000/50000 [==============================] - 100s 2ms/step - loss: 0.8930 - acc: 0.6883 - val_loss: 1.0209 - val_acc: 0.6498\n",
      "Epoch 9/20\n",
      "50000/50000 [==============================] - 108s 2ms/step - loss: 0.8568 - acc: 0.7048 - val_loss: 0.9152 - val_acc: 0.6776\n",
      "Epoch 10/20\n",
      "50000/50000 [==============================] - 116s 2ms/step - loss: 0.8210 - acc: 0.7151 - val_loss: 0.8738 - val_acc: 0.6954\n",
      "Epoch 11/20\n",
      "50000/50000 [==============================] - 115s 2ms/step - loss: 0.7958 - acc: 0.7266 - val_loss: 0.8491 - val_acc: 0.7072\n",
      "Epoch 12/20\n",
      "50000/50000 [==============================] - 115s 2ms/step - loss: 0.7685 - acc: 0.7353 - val_loss: 0.8435 - val_acc: 0.7133\n",
      "Epoch 13/20\n",
      "50000/50000 [==============================] - 116s 2ms/step - loss: 0.7410 - acc: 0.7426 - val_loss: 0.8445 - val_acc: 0.7120\n",
      "Epoch 14/20\n",
      "50000/50000 [==============================] - 118s 2ms/step - loss: 0.7255 - acc: 0.7495 - val_loss: 0.8257 - val_acc: 0.7201\n",
      "Epoch 15/20\n",
      "50000/50000 [==============================] - 116s 2ms/step - loss: 0.7012 - acc: 0.7575 - val_loss: 0.8491 - val_acc: 0.7155\n",
      "Epoch 16/20\n",
      "50000/50000 [==============================] - 114s 2ms/step - loss: 0.6806 - acc: 0.7641 - val_loss: 0.7997 - val_acc: 0.7328\n",
      "Epoch 17/20\n",
      "50000/50000 [==============================] - 116s 2ms/step - loss: 0.6678 - acc: 0.7690 - val_loss: 0.8554 - val_acc: 0.7153\n",
      "Epoch 18/20\n",
      "50000/50000 [==============================] - 116s 2ms/step - loss: 0.6527 - acc: 0.7731 - val_loss: 0.8515 - val_acc: 0.7187\n",
      "Epoch 19/20\n",
      "50000/50000 [==============================] - 115s 2ms/step - loss: 0.6354 - acc: 0.7806 - val_loss: 0.7952 - val_acc: 0.7319\n",
      "Epoch 20/20\n",
      "50000/50000 [==============================] - 116s 2ms/step - loss: 0.6154 - acc: 0.7860 - val_loss: 0.7923 - val_acc: 0.7334\n",
      "Test loss: 0.7922936862945557\n",
      "Test accuracy: 0.7334\n"
     ]
    }
   ],
   "source": [
    "from keras.layers import Conv2D, MaxPooling2D, Input, Flatten, Dense, Dropout, GlobalAveragePooling2D\n",
    "from keras.datasets import mnist\n",
    "from keras.models import Model\n",
    "import keras\n",
    "\n",
    "from keras.datasets import cifar10\n",
    "\n",
    "(x_train, y_train), (x_test, y_test) = cifar10.load_data()\n",
    "input_img = Input(shape=(32, 32, 3))\n",
    "\n",
    "# x_train = x_train[:, :, :, None]\n",
    "# x_test = x_test[:, :, :, None]\n",
    "y_train = keras.utils.to_categorical(y_train,10)\n",
    "y_test = keras.utils.to_categorical(y_test, 10)\n",
    "\n",
    "z = Conv2D(32, kernel_size=(3, 3),\n",
    "                 activation='relu',\n",
    "                 )(input_img)\n",
    "z = Conv2D(32, (3, 3), activation='relu')(z)\n",
    "z = MaxPooling2D()(z)\n",
    "z = Conv2D(32, kernel_size=(3, 3),\n",
    "                 activation='relu',\n",
    "                 )(z)\n",
    "features = Conv2D(64, (3, 3), activation='relu')(z)\n",
    "z = GlobalAveragePooling2D()(features)\n",
    "z = Dense(10, activation='softmax')(z)\n",
    "\n",
    "model = Model(input_img, z)\n",
    "model.compile(loss=\"categorical_crossentropy\",\n",
    "              optimizer=\"adam\",\n",
    "              metrics=['accuracy'])\n",
    "\n",
    "model_cam = Model(input_img, features)\n",
    "\n",
    "model.summary()\n",
    "model.fit(x_train, y_train,\n",
    "          batch_size=128,\n",
    "          epochs=20,\n",
    "          verbose=1,\n",
    "          validation_data=(x_test, y_test))\n",
    "score = model.evaluate(x_test, y_test, verbose=0)\n",
    "print('Test loss:', score[0])\n",
    "print('Test accuracy:', score[1])"
   ]
  },
  {
   "cell_type": "code",
   "execution_count": 75,
   "metadata": {},
   "outputs": [
    {
     "data": {
      "image/png": "[encoded data removed]",
      "text/plain": [
       "<Figure size 432x288 with 1 Axes>"
      ]
     },
     "metadata": {
      "needs_background": "light"
     },
     "output_type": "display_data"
    },
    {
     "name": "stdout",
     "output_type": "stream",
     "text": [
      "(28, 28)\n",
      "(64, 10)\n",
      "[0. 0. 0. 0. 0. 0. 0. 1. 0. 0.]\n",
      "(1, 8, 8, 64)\n"
     ]
    },
    {
     "data": {
      "image/png": "[encoded data removed]",
      "text/plain": [
       "<Figure size 432x288 with 1 Axes>"
      ]
     },
     "metadata": {
      "needs_background": "light"
     },
     "output_type": "display_data"
    }
   ],
   "source": [
    "import numpy as np\n",
    "import skimage\n",
    "import cv2\n",
    "single_image = model_cam.predict(x_test[:1, :, :, :])\n",
    "cam_weights = model.layers[-1].get_weights()[0]\n",
    "cam_weights_per_class = cam_weights[:, 7]\n",
    "cam = np.dot(single_image, cam_weights_per_class)\n",
    "cam /= np.max(cam)\n",
    "# cam = skimage.transform.resize(cam, (1, 28, 28))\n",
    "cam = cv2.resize(cam[0], (28, 28), interpolation=cv2.INTER_LINEAR)\n",
    "plt.imshow(cam)\n",
    "plt.show()\n",
    "print(cam.shape)\n",
    "print(cam_weights.shape)\n",
    "print(y_test[0])\n",
    "print(single_image.shape)\n",
    "import matplotlib.pyplot as plt\n",
    "plt.imshow(x_test[0, :, :, 0])\n",
    "plt.show()"
   ]
  },
  {
   "cell_type": "code",
   "execution_count": null,
   "metadata": {},
   "outputs": [],
   "source": [
    "from keras.layers import Conv2D, MaxPooling2D, Input, Flatten, Dense, Dropout, GlobalAveragePooling2D\n",
    "from keras.datasets import mnist\n",
    "from keras.models import Model\n",
    "import keras\n",
    "\n",
    "(x_train, y_train), (x_test, y_test) = mnist.load_data()\n",
    "input_img = Input(shape=(28, 28, 1))\n",
    "\n",
    "x_train = x_train[:, :, :, None]\n",
    "x_test = x_test[:, :, :, None]\n",
    "y_train = keras.utils.to_categorical(y_train,10)\n",
    "y_test = keras.utils.to_categorical(y_test, 10)\n",
    "\n",
    "z = Conv2D(32, kernel_size=(3, 3),\n",
    "                 activation='linear',\n",
    "                 )(input_img)\n",
    "features = Conv2D(64, (3, 3), activation='linear')(z)\n",
    "z = GlobalAveragePooling2D()(features)\n",
    "z = Dense(10, activation='softmax')(z)\n",
    "\n",
    "model = Model(input_img, z)\n",
    "model.compile(loss=\"categorical_crossentropy\",\n",
    "              optimizer=\"adam\",\n",
    "              metrics=['accuracy'])\n",
    "\n",
    "model_cam = Model(input_img, features)\n",
    "\n",
    "model.summary()\n",
    "model.fit(x_train, y_train,\n",
    "          batch_size=128,\n",
    "          epochs=2,\n",
    "          verbose=1,\n",
    "          validation_data=(x_test, y_test))\n",
    "score = model.evaluate(x_test, y_test, verbose=0)\n",
    "print('Test loss:', score[0])\n",
    "print('Test accuracy:', score[1])"
   ]
  }
 ],
 "metadata": {
  "kernelspec": {
   "display_name": "RL_gym",
   "language": "python",
   "name": "rl_gym"
  },
  "language_info": {
   "codemirror_mode": {
    "name": "ipython",
    "version": 3
   },
   "file_extension": ".py",
   "mimetype": "text/x-python",
   "name": "python",
   "nbconvert_exporter": "python",
   "pygments_lexer": "ipython3",
   "version": "3.6.6rc1"
  }
 },
 "nbformat": 4,
 "nbformat_minor": 2
}
